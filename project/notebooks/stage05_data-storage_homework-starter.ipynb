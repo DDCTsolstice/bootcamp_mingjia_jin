{
 "cells": [
  {
   "cell_type": "markdown",
   "id": "a3538a6a-a52b-4d5c-ab49-13a16405bc57",
   "metadata": {},
   "source": [
    "# Homework Starter — Stage 05: Data Storage\n",
    "Name: Mingjia Jin\n",
    "Date: \n",
    "\n",
    "Objectives:\n",
    "- Env-driven paths to `data/raw/` and `data/processed/`\n",
    "- Save CSV and Parquet; reload and validate\n",
    "- Abstract IO with utility functions; document choices"
   ]
  },
  {
   "cell_type": "code",
   "execution_count": 11,
   "id": "3d5a065b-a3e5-47a4-b068-84fb141b6797",
   "metadata": {},
   "outputs": [],
   "source": [
    "import os # interacts with your operating system (e.g., get environment variables).\n",
    "import pathlib # a modern and cleaner way to handle file paths.\n",
    "from pathlib import Path\n",
    "import datetime \n",
    "import pandas as pd\n",
    "from dotenv import load_dotenv # loads environment variables from a .env file into Python’s environment.\n",
    "import numpy as np"
   ]
  },
  {
   "cell_type": "code",
   "execution_count": 17,
   "id": "7b0a589b-f0c4-46c0-b0d0-e27579f8ace0",
   "metadata": {},
   "outputs": [
    {
     "name": "stdout",
     "output_type": "stream",
     "text": [
      "RAW -> /Users/fd/gitlocal/bootcamp_mingjia_jin/project/data/raw\n",
      "PROC -> /Users/fd/gitlocal/bootcamp_mingjia_jin/project/data/processed\n"
     ]
    }
   ],
   "source": [
    "PROJECT_ROOT = Path(\"..\").resolve() # use absolute path to make it more stable\n",
    "ENV_PATH = PROJECT_ROOT / \".env\"\n",
    "\n",
    "load_dotenv(override=True) # cause of cached, always check momery first instead of checking disk, so always override\n",
    "RAW = (PROJECT_ROOT / os.getenv(\"DATA_DIR_RAW\", \"data/raw\")).resolve()\n",
    "PROC = (PROJECT_ROOT / os.getenv(\"DATA_DIR_PROCESSED\", \"data/processed\")).resolve()\n",
    "if not str(RAW).startswith(str(PROJECT_ROOT)):\n",
    "    raise ValueError(f\"RAW path is outside project root! → {RAW}\")\n",
    "if not str(PROC).startswith(str(PROJECT_ROOT)):\n",
    "    raise ValueError(f\"RAW path is outside project root! → {PROC}\")\n",
    "RAW.mkdir(parents=True, exist_ok=True) \n",
    "PROC.mkdir(parents=True, exist_ok=True)\n",
    "print('RAW ->', RAW.resolve()) # .resolve(): Returns the absolute path, with all symbolic links, relative .. or . components resolved (i.e., “cleaned up”)\n",
    "print('PROC ->', PROC.resolve())"
   ]
  },
  {
   "cell_type": "markdown",
   "id": "2ceb5bb1-1a66-4584-aeb7-c3a7485f9f92",
   "metadata": {},
   "source": [
    "## 1) Create or Load a Sample DataFrame\n",
    "You may reuse data from prior stages or create a small synthetic dataset."
   ]
  },
  {
   "cell_type": "code",
   "execution_count": 25,
   "id": "8d9fd35a-b084-41ea-a4e4-3d21f4942059",
   "metadata": {},
   "outputs": [
    {
     "data": {
      "text/html": [
       "<div>\n",
       "<style scoped>\n",
       "    .dataframe tbody tr th:only-of-type {\n",
       "        vertical-align: middle;\n",
       "    }\n",
       "\n",
       "    .dataframe tbody tr th {\n",
       "        vertical-align: top;\n",
       "    }\n",
       "\n",
       "    .dataframe thead th {\n",
       "        text-align: right;\n",
       "    }\n",
       "</style>\n",
       "<table border=\"1\" class=\"dataframe\">\n",
       "  <thead>\n",
       "    <tr style=\"text-align: right;\">\n",
       "      <th></th>\n",
       "      <th>Date</th>\n",
       "      <th>Open</th>\n",
       "      <th>High</th>\n",
       "      <th>Low</th>\n",
       "      <th>Close</th>\n",
       "      <th>Adj Close</th>\n",
       "      <th>Volume</th>\n",
       "    </tr>\n",
       "  </thead>\n",
       "  <tbody>\n",
       "    <tr>\n",
       "      <th>0</th>\n",
       "      <td>2015-01-02</td>\n",
       "      <td>27.847500</td>\n",
       "      <td>27.860001</td>\n",
       "      <td>26.837500</td>\n",
       "      <td>27.332500</td>\n",
       "      <td>24.261044</td>\n",
       "      <td>212818400</td>\n",
       "    </tr>\n",
       "    <tr>\n",
       "      <th>1</th>\n",
       "      <td>2015-01-05</td>\n",
       "      <td>27.072500</td>\n",
       "      <td>27.162500</td>\n",
       "      <td>26.352501</td>\n",
       "      <td>26.562500</td>\n",
       "      <td>23.577574</td>\n",
       "      <td>257142000</td>\n",
       "    </tr>\n",
       "    <tr>\n",
       "      <th>2</th>\n",
       "      <td>2015-01-06</td>\n",
       "      <td>26.635000</td>\n",
       "      <td>26.857500</td>\n",
       "      <td>26.157499</td>\n",
       "      <td>26.565001</td>\n",
       "      <td>23.579796</td>\n",
       "      <td>263188400</td>\n",
       "    </tr>\n",
       "    <tr>\n",
       "      <th>3</th>\n",
       "      <td>2015-01-07</td>\n",
       "      <td>26.799999</td>\n",
       "      <td>27.049999</td>\n",
       "      <td>26.674999</td>\n",
       "      <td>26.937500</td>\n",
       "      <td>23.910435</td>\n",
       "      <td>160423600</td>\n",
       "    </tr>\n",
       "    <tr>\n",
       "      <th>4</th>\n",
       "      <td>2015-01-08</td>\n",
       "      <td>27.307501</td>\n",
       "      <td>28.037500</td>\n",
       "      <td>27.174999</td>\n",
       "      <td>27.972500</td>\n",
       "      <td>24.829128</td>\n",
       "      <td>237458000</td>\n",
       "    </tr>\n",
       "  </tbody>\n",
       "</table>\n",
       "</div>"
      ],
      "text/plain": [
       "         Date       Open       High        Low      Close  Adj Close  \\\n",
       "0  2015-01-02  27.847500  27.860001  26.837500  27.332500  24.261044   \n",
       "1  2015-01-05  27.072500  27.162500  26.352501  26.562500  23.577574   \n",
       "2  2015-01-06  26.635000  26.857500  26.157499  26.565001  23.579796   \n",
       "3  2015-01-07  26.799999  27.049999  26.674999  26.937500  23.910435   \n",
       "4  2015-01-08  27.307501  28.037500  27.174999  27.972500  24.829128   \n",
       "\n",
       "      Volume  \n",
       "0  212818400  \n",
       "1  257142000  \n",
       "2  263188400  \n",
       "3  160423600  \n",
       "4  237458000  "
      ]
     },
     "execution_count": 25,
     "metadata": {},
     "output_type": "execute_result"
    }
   ],
   "source": [
    "# Use data from the prior stage\n",
    "file_path = Path(RAW/\"api_yfinance_AAPL_20250824-2226.csv\")\n",
    "df = pd.read_csv(file_path, parse_dates=[\"Date\"])\n",
    "df.head()\n",
    "\n",
    "# dates = pd.date_range('2024-01-01', periods=20, freq='D')\n",
    "# df = pd.DataFrame({'date': dates, 'ticker': ['AAPL']*20, 'price': 150 + np.random.randn(20).cumsum()})\n",
    "# df.head()"
   ]
  },
  {
   "cell_type": "markdown",
   "id": "384988de-f633-4fef-aae7-0979801e0de1",
   "metadata": {},
   "source": [
    "## 2) Save CSV to data/raw/ and Parquet to data/processed/ (TODO)\n",
    "- Use timestamped filenames.\n",
    "- Handle missing Parquet engine gracefully."
   ]
  },
  {
   "cell_type": "code",
   "execution_count": 28,
   "id": "a99b6c79-434b-4507-a978-420cf5b56cc3",
   "metadata": {},
   "outputs": [
    {
     "name": "stdout",
     "output_type": "stream",
     "text": [
      "CSV saved to: /Users/fd/gitlocal/bootcamp_mingjia_jin/project/data/raw/sample_20250824-223858.csv\n",
      "Parquet saved to: /Users/fd/gitlocal/bootcamp_mingjia_jin/project/data/processed/sample_20250824-223858.parquet\n"
     ]
    }
   ],
   "source": [
    "def ts(): return datetime.datetime.now().strftime('%Y%m%d-%H%M%S') # yes can be written in just one line\n",
    "\n",
    "# Use one timestamp for both\n",
    "timestamp = ts()\n",
    "\n",
    "# Save CSV\n",
    "csv_path = RAW / f\"sample_{timestamp}.csv\"\n",
    "df.to_csv(csv_path, index=False)\n",
    "print(f\"CSV saved to: {csv_path}\")\n",
    "\n",
    "# Save Parquet (handle engine not installed)\n",
    "pq_path = PROC / f\"sample_{timestamp}.parquet\"\n",
    "try:\n",
    "    df.to_parquet(pq_path)\n",
    "    print(f\"Parquet saved to: {pq_path}\")\n",
    "except Exception as e:\n",
    "    print(\"Parquet engine not available. Install pyarrow or fastparquet to complete this step.\")\n",
    "    pq_path = None"
   ]
  },
  {
   "cell_type": "markdown",
   "id": "0ea02c94-e90e-4c12-a31e-24330d75376f",
   "metadata": {},
   "source": [
    "## 3) Reload and Validate (TODO)\n",
    "- Compare shapes and key dtypes."
   ]
  },
  {
   "cell_type": "code",
   "execution_count": 31,
   "id": "66d69119-3f7d-4155-afbb-a0c5cda1db16",
   "metadata": {},
   "outputs": [
    {
     "data": {
      "text/plain": [
       "{'shape_equal': True, 'date_is_datetime': True, 'price_is_numeric': True}"
      ]
     },
     "execution_count": 31,
     "metadata": {},
     "output_type": "execute_result"
    }
   ],
   "source": [
    "def validate_loaded(original, reloaded):\n",
    "    checks = {\n",
    "        'shape_equal': original.shape == reloaded.shape,\n",
    "        'date_is_datetime': pd.api.types.is_datetime64_any_dtype(reloaded['Date']) if 'Date' in reloaded.columns else False,\n",
    "        'price_is_numeric': pd.api.types.is_numeric_dtype(reloaded['Close']) if 'Close' in reloaded.columns else False,\n",
    "    }\n",
    "    return checks\n",
    "    \n",
    "df_csv = pd.read_csv(csv_path, parse_dates=['Date']) \n",
    "    # CSV files do NOT store data types. They only store plain text (strings), even for numbers and dates.\n",
    "    # So it is pandas than convert data types here.\n",
    "validate_loaded(df, df_csv)"
   ]
  },
  {
   "cell_type": "code",
   "execution_count": 35,
   "id": "d3d16d08-e9a5-43f0-93ad-002518688bf1",
   "metadata": {},
   "outputs": [
    {
     "name": "stdout",
     "output_type": "stream",
     "text": [
      "Parquet validation results: {'shape_equal': True, 'date_is_datetime': True, 'price_is_numeric': True}\n"
     ]
    }
   ],
   "source": [
    "if pq_path:\n",
    "    try:\n",
    "        df_pq = pd.read_parquet(pq_path)\n",
    "        # Enforce datetime type for 'Date' column\n",
    "        if 'Date' in df_pq.columns: # pandas.read_parquet() has no parse_dates parameter\n",
    "            df_pq['Date'] = pd.to_datetime(df_pq['Date'])\n",
    "        result = validate_loaded(df, df_pq)\n",
    "        print(\"Parquet validation results:\", result)\n",
    "    except Exception as e:\n",
    "        print('Parquet read failed:', e)"
   ]
  },
  {
   "cell_type": "markdown",
   "id": "2407bfe1-b21a-45bc-bf1b-363f836c129d",
   "metadata": {},
   "source": [
    "## 4) Utilities (TODO)\n",
    "- Implement `detect_format`, `write_df`, `read_df`.\n",
    "- Use suffix to route; create parent dirs if needed; friendly errors for Parquet."
   ]
  },
  {
   "cell_type": "code",
   "execution_count": 41,
   "id": "92ce798f-5a6b-4c05-87d5-ee87ef0a55d4",
   "metadata": {},
   "outputs": [],
   "source": [
    "import typing as t # Python standard Module that provides type hinting tools — used to declare what type of values your functions expect and return.\n",
    "\n",
    "# It takes a file path (as a string or Path object) and judges the file kind.\n",
    "def detect_format(path: t.Union[str, pathlib.Path]) -> str: \n",
    "    # The function expects one parameter named path, and this path can be either a str or a pathlib.Path object.\n",
    "    # Union[A, B] means: either A or B — both types are accepted.\n",
    "    s = str(path).strip().lower()\n",
    "    if s.endswith('.csv'):\n",
    "        return 'csv'\n",
    "    elif s.endswith(('.parquet', '.parq', '.pq')):\n",
    "        return 'parquet'\n",
    "    else:\n",
    "        raise ValueError(f\"Unsupported file format: {s}\")"
   ]
  },
  {
   "cell_type": "code",
   "execution_count": 42,
   "id": "24aa3741-c914-4dd8-aee0-8e4c71eb4cfb",
   "metadata": {},
   "outputs": [],
   "source": [
    "# write_df() is a unified save function that lets you save a DataFrame to either a CSV or Parquet file, \n",
    "# based on the file extension you pass in.\n",
    "def write_df(df: pd.DataFrame, path: t.Union[str, pathlib.Path]):\n",
    "    p = pathlib.Path(path); p.parent.mkdir(parents=True, exist_ok=True)\n",
    "    fmt = detect_format(p)\n",
    "    if fmt == 'csv':\n",
    "        df.to_csv(p, index=False)\n",
    "    elif fmt == 'parquet':\n",
    "        try:\n",
    "            df.to_parquet(p)\n",
    "        except Exception as e:\n",
    "            raise RuntimeError('Parquet engine not available. Install pyarrow or fastparquet.') from e\n",
    "    else:\n",
    "        print(\"wrong value\")\n",
    "    return p"
   ]
  },
  {
   "cell_type": "code",
   "execution_count": 43,
   "id": "338e7e18-d510-4533-9c36-924d887a201c",
   "metadata": {},
   "outputs": [],
   "source": [
    "# Reads in either a CSV or Parquet file into a pandas DataFrame\n",
    "def read_df(path: t.Union[str, pathlib.Path]):\n",
    "    p = pathlib.Path(path)\n",
    "    fmt = detect_format(p)\n",
    "    if fmt == 'csv':\n",
    "        return pd.read_csv(p, parse_dates=['Date']) if 'Date' in pd.read_csv(p, nrows=0).columns else pd.read_csv(p)\n",
    "    else:\n",
    "        try:\n",
    "            df_ = pd.read_parquet(p)\n",
    "            if 'Date' in df_.columns: # pandas.read_parquet() has no parse_dates parameter\n",
    "                df_['Date'] = pd.to_datetime(df_['Date'])\n",
    "            return df_\n",
    "        except Exception as e: # `as e` and `from e` will keep the orginal error\n",
    "            raise RuntimeError('Parquet engine not available. Install pyarrow or fastparquet.') from e"
   ]
  },
  {
   "cell_type": "code",
   "execution_count": 44,
   "id": "63b37da6-5128-4696-9278-12071d2dae40",
   "metadata": {},
   "outputs": [],
   "source": [
    "# Demo\n",
    "p_csv = RAW / f\"util_{ts()}.csv\"\n",
    "p_pq  = PROC / f\"util_{ts()}.parquet\"\n",
    "write_df(df, p_csv); read_df(p_csv).head()\n",
    "try:\n",
    "    write_df(df, p_pq)\n",
    "    read_df(p_pq).head()\n",
    "except RuntimeError as e:\n",
    "    print('Skipping Parquet util demo:', e)"
   ]
  },
  {
   "cell_type": "markdown",
   "id": "402627de-909d-406a-b25d-b07fbf21ff2e",
   "metadata": {},
   "source": [
    "## 5) Documentation (TODO)\n",
    "- Update README with a **Data Storage** section (folders, formats, env usage).\n",
    "- Summarize validation checks and any assumptions.\n",
    "\n",
    "done, check README.md "
   ]
  }
 ],
 "metadata": {
  "kernelspec": {
   "display_name": "Python 3 (ipykernel)",
   "language": "python",
   "name": "python3"
  },
  "language_info": {
   "codemirror_mode": {
    "name": "ipython",
    "version": 3
   },
   "file_extension": ".py",
   "mimetype": "text/x-python",
   "name": "python",
   "nbconvert_exporter": "python",
   "pygments_lexer": "ipython3",
   "version": "3.11.13"
  }
 },
 "nbformat": 4,
 "nbformat_minor": 5
}
