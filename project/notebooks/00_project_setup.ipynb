{
 "cells": [
  {
   "cell_type": "markdown",
   "id": "46b1e707-0ea7-421d-b5ff-7b57e7ef2519",
   "metadata": {},
   "source": [
    "# Environment & Config Check"
   ]
  },
  {
   "cell_type": "code",
   "execution_count": 3,
   "id": "288184bd-fb35-490f-8cd9-e5773b6c334b",
   "metadata": {},
   "outputs": [],
   "source": [
    "import sys, os\n",
    "sys.path.append(os.path.abspath(\"..\"))  # go one level up so src/ is visible\n",
    "\n",
    "from src.config import load_env, get_key"
   ]
  },
  {
   "cell_type": "code",
   "execution_count": 4,
   "id": "26d7b996-7d89-4fe0-b3f1-302dad349539",
   "metadata": {},
   "outputs": [
    {
     "name": "stdout",
     "output_type": "stream",
     "text": [
      "API_KEY present: True\n",
      "Array doubled: [2 4 6]\n"
     ]
    }
   ],
   "source": [
    "from src.config import load_env, get_key\n",
    "import numpy as np\n",
    "\n",
    "# Load .env variables\n",
    "load_env()\n",
    "\n",
    "# Check API_KEY\n",
    "print(\"API_KEY present:\", get_key(\"API_KEY\") is not None)\n",
    "\n",
    "# NumPy small test\n",
    "arr = np.array([1, 2, 3])\n",
    "print(\"Array doubled:\", arr * 2)\n"
   ]
  }
 ],
 "metadata": {
  "kernelspec": {
   "display_name": "Python 3 (ipykernel)",
   "language": "python",
   "name": "python3"
  },
  "language_info": {
   "codemirror_mode": {
    "name": "ipython",
    "version": 3
   },
   "file_extension": ".py",
   "mimetype": "text/x-python",
   "name": "python",
   "nbconvert_exporter": "python",
   "pygments_lexer": "ipython3",
   "version": "3.11.13"
  }
 },
 "nbformat": 4,
 "nbformat_minor": 5
}
