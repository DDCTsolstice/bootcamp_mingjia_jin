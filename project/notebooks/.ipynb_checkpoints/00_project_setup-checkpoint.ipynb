{
 "cells": [
  {
   "cell_type": "markdown",
   "id": "46b1e707-0ea7-421d-b5ff-7b57e7ef2519",
   "metadata": {},
   "source": [
    "# Environment & Config Check"
   ]
  },
  {
   "cell_type": "code",
   "execution_count": 1,
   "id": "26d7b996-7d89-4fe0-b3f1-302dad349539",
   "metadata": {},
   "outputs": [
    {
     "ename": "ModuleNotFoundError",
     "evalue": "No module named 'src'",
     "output_type": "error",
     "traceback": [
      "\u001b[31m---------------------------------------------------------------------------\u001b[39m",
      "\u001b[31mModuleNotFoundError\u001b[39m                       Traceback (most recent call last)",
      "\u001b[36mCell\u001b[39m\u001b[36m \u001b[39m\u001b[32mIn[1]\u001b[39m\u001b[32m, line 1\u001b[39m\n\u001b[32m----> \u001b[39m\u001b[32m1\u001b[39m \u001b[38;5;28;01mfrom\u001b[39;00m\u001b[38;5;250m \u001b[39m\u001b[34;01msrc\u001b[39;00m\u001b[34;01m.\u001b[39;00m\u001b[34;01mconfig\u001b[39;00m\u001b[38;5;250m \u001b[39m\u001b[38;5;28;01mimport\u001b[39;00m load_env, get_key\n\u001b[32m      2\u001b[39m \u001b[38;5;28;01mimport\u001b[39;00m\u001b[38;5;250m \u001b[39m\u001b[34;01mnumpy\u001b[39;00m\u001b[38;5;250m \u001b[39m\u001b[38;5;28;01mas\u001b[39;00m\u001b[38;5;250m \u001b[39m\u001b[34;01mnp\u001b[39;00m\n\u001b[32m      4\u001b[39m \u001b[38;5;66;03m# Load .env variables\u001b[39;00m\n",
      "\u001b[31mModuleNotFoundError\u001b[39m: No module named 'src'"
     ]
    }
   ],
   "source": [
    "from src.config import load_env, get_key\n",
    "import numpy as np\n",
    "\n",
    "# Load .env variables\n",
    "load_env()\n",
    "\n",
    "# Check API_KEY\n",
    "print(\"API_KEY present:\", get_key(\"API_KEY\") is not None)\n",
    "\n",
    "# NumPy small test\n",
    "arr = np.array([1, 2, 3])\n",
    "print(\"Array doubled:\", arr * 2)\n"
   ]
  },
  {
   "cell_type": "code",
   "execution_count": null,
   "id": "26e2535d-a9b8-4704-b049-ebcf83be53f1",
   "metadata": {},
   "outputs": [],
   "source": []
  }
 ],
 "metadata": {
  "kernelspec": {
   "display_name": "Python 3 (ipykernel)",
   "language": "python",
   "name": "python3"
  },
  "language_info": {
   "codemirror_mode": {
    "name": "ipython",
    "version": 3
   },
   "file_extension": ".py",
   "mimetype": "text/x-python",
   "name": "python",
   "nbconvert_exporter": "python",
   "pygments_lexer": "ipython3",
   "version": "3.11.13"
  }
 },
 "nbformat": 4,
 "nbformat_minor": 5
}
