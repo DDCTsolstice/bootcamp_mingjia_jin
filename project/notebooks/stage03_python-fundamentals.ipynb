{
 "cells": [
  {
   "cell_type": "code",
   "execution_count": 16,
   "id": "56c04ea5-7842-4a75-a709-2ed7fb39599a",
   "metadata": {},
   "outputs": [],
   "source": [
    "from pathlib import Path\n",
    "import time\n",
    "import numpy as np\n",
    "import pandas as pd\n",
    "import matplotlib.pyplot as plt\n",
    "\n",
    "# Paths\n",
    "DATA_DIR = Path(\"..\") / \"data\"\n",
    "RAW_CSV = DATA_DIR / \"starter_data.csv\"\n",
    "PROC_DIR = DATA_DIR / \"processed\"\n",
    "FIG_DIR = Path(\"..\") / \"figures\"\n",
    "SRC_DIR = Path(\"..\") / \"src\"\n",
    "\n",
    "# Ensure folders exist\n",
    "for p in [DATA_DIR, PROC_DIR, FIG_DIR, SRC_DIR]:\n",
    "    p.mkdir(parents=True, exist_ok=True)\n"
   ]
  },
  {
   "cell_type": "markdown",
   "id": "4d5c28aa-e177-41b7-a79f-84e41769b140",
   "metadata": {},
   "source": [
    "# NumPy Operations (vectorized vs loop)"
   ]
  },
  {
   "cell_type": "code",
   "execution_count": 17,
   "id": "f95ed6b5-6cee-499c-af4f-aa14b867263b",
   "metadata": {},
   "outputs": [
    {
     "name": "stdout",
     "output_type": "stream",
     "text": [
      "Vectorized time: 0.000433 s\n",
      "Loop time      : 0.014736 s\n",
      "Same result?   : True\n"
     ]
    }
   ],
   "source": [
    "# Create a NumPy array\n",
    "arr = np.arange(1_000_00)  # 100k for quick runtime; raise to 1_000_000 if you like\n",
    "\n",
    "# Vectorized\n",
    "t0 = time.time()\n",
    "vec = arr * 2\n",
    "t1 = time.time()\n",
    "\n",
    "# Python loop (list comprehension)\n",
    "t2 = time.time()\n",
    "loop = [x * 2 for x in arr]\n",
    "t3 = time.time()\n",
    "\n",
    "print(f\"Vectorized time: {t1 - t0:.6f} s\")\n",
    "print(f\"Loop time      : {t3 - t2:.6f} s\")\n",
    "print(\"Same result?   :\", np.array_equal(vec, loop))\n"
   ]
  },
  {
   "cell_type": "markdown",
   "id": "4569553a-c8db-41b9-a3d3-61406b896c20",
   "metadata": {},
   "source": [
    "# Load Dataset & Inspect"
   ]
  },
  {
   "cell_type": "code",
   "execution_count": 18,
   "id": "7f979232-4aab-43a3-9055-ae98802e0279",
   "metadata": {},
   "outputs": [
    {
     "data": {
      "text/html": [
       "<div>\n",
       "<style scoped>\n",
       "    .dataframe tbody tr th:only-of-type {\n",
       "        vertical-align: middle;\n",
       "    }\n",
       "\n",
       "    .dataframe tbody tr th {\n",
       "        vertical-align: top;\n",
       "    }\n",
       "\n",
       "    .dataframe thead th {\n",
       "        text-align: right;\n",
       "    }\n",
       "</style>\n",
       "<table border=\"1\" class=\"dataframe\">\n",
       "  <thead>\n",
       "    <tr style=\"text-align: right;\">\n",
       "      <th></th>\n",
       "      <th>category</th>\n",
       "      <th>value</th>\n",
       "      <th>date</th>\n",
       "    </tr>\n",
       "  </thead>\n",
       "  <tbody>\n",
       "    <tr>\n",
       "      <th>0</th>\n",
       "      <td>A</td>\n",
       "      <td>10</td>\n",
       "      <td>2025-08-01</td>\n",
       "    </tr>\n",
       "    <tr>\n",
       "      <th>1</th>\n",
       "      <td>B</td>\n",
       "      <td>15</td>\n",
       "      <td>2025-08-02</td>\n",
       "    </tr>\n",
       "    <tr>\n",
       "      <th>2</th>\n",
       "      <td>A</td>\n",
       "      <td>12</td>\n",
       "      <td>2025-08-03</td>\n",
       "    </tr>\n",
       "    <tr>\n",
       "      <th>3</th>\n",
       "      <td>B</td>\n",
       "      <td>18</td>\n",
       "      <td>2025-08-04</td>\n",
       "    </tr>\n",
       "    <tr>\n",
       "      <th>4</th>\n",
       "      <td>C</td>\n",
       "      <td>25</td>\n",
       "      <td>2025-08-05</td>\n",
       "    </tr>\n",
       "  </tbody>\n",
       "</table>\n",
       "</div>"
      ],
      "text/plain": [
       "  category  value        date\n",
       "0        A     10  2025-08-01\n",
       "1        B     15  2025-08-02\n",
       "2        A     12  2025-08-03\n",
       "3        B     18  2025-08-04\n",
       "4        C     25  2025-08-05"
      ]
     },
     "metadata": {},
     "output_type": "display_data"
    },
    {
     "name": "stdout",
     "output_type": "stream",
     "text": [
      "\n",
      ".info():\n",
      "<class 'pandas.core.frame.DataFrame'>\n",
      "RangeIndex: 10 entries, 0 to 9\n",
      "Data columns (total 3 columns):\n",
      " #   Column    Non-Null Count  Dtype \n",
      "---  ------    --------------  ----- \n",
      " 0   category  10 non-null     object\n",
      " 1   value     10 non-null     int64 \n",
      " 2   date      10 non-null     object\n",
      "dtypes: int64(1), object(2)\n",
      "memory usage: 372.0+ bytes\n",
      "None\n"
     ]
    }
   ],
   "source": [
    "# If starter_data.csv is missing, create a small demo dataset so the notebook still runs\n",
    "if not RAW_CSV.exists():\n",
    "    demo = pd.DataFrame({\n",
    "        \"category\": np.random.choice(list(\"ABC\"), size=200),\n",
    "        \"value\": np.random.normal(loc=10, scale=3, size=200).round(3),\n",
    "        \"amount\": np.random.gamma(shape=2.0, scale=5.0, size=200).round(3)\n",
    "    })\n",
    "    demo.to_csv(RAW_CSV, index=False)\n",
    "    print(f\"[Info] Created demo dataset at {RAW_CSV}\")\n",
    "\n",
    "# Load\n",
    "df = pd.read_csv(RAW_CSV)\n",
    "\n",
    "# Inspect\n",
    "display(df.head())\n",
    "print(\"\\n.info():\")\n",
    "print(df.info())"
   ]
  },
  {
   "cell_type": "markdown",
   "id": "2d879a0d-b191-4341-aa91-07b3ea746640",
   "metadata": {},
   "source": [
    "# Summary Stats & GroupBy"
   ]
  },
  {
   "cell_type": "code",
   "execution_count": 19,
   "id": "bfc79b4e-02e4-413c-ab30-2687a3a707dc",
   "metadata": {},
   "outputs": [
    {
     "data": {
      "text/html": [
       "<div>\n",
       "<style scoped>\n",
       "    .dataframe tbody tr th:only-of-type {\n",
       "        vertical-align: middle;\n",
       "    }\n",
       "\n",
       "    .dataframe tbody tr th {\n",
       "        vertical-align: top;\n",
       "    }\n",
       "\n",
       "    .dataframe thead th {\n",
       "        text-align: right;\n",
       "    }\n",
       "</style>\n",
       "<table border=\"1\" class=\"dataframe\">\n",
       "  <thead>\n",
       "    <tr style=\"text-align: right;\">\n",
       "      <th></th>\n",
       "      <th>value</th>\n",
       "    </tr>\n",
       "  </thead>\n",
       "  <tbody>\n",
       "    <tr>\n",
       "      <th>count</th>\n",
       "      <td>10.000000</td>\n",
       "    </tr>\n",
       "    <tr>\n",
       "      <th>mean</th>\n",
       "      <td>17.600000</td>\n",
       "    </tr>\n",
       "    <tr>\n",
       "      <th>std</th>\n",
       "      <td>7.381659</td>\n",
       "    </tr>\n",
       "    <tr>\n",
       "      <th>min</th>\n",
       "      <td>10.000000</td>\n",
       "    </tr>\n",
       "    <tr>\n",
       "      <th>25%</th>\n",
       "      <td>12.250000</td>\n",
       "    </tr>\n",
       "    <tr>\n",
       "      <th>50%</th>\n",
       "      <td>14.500000</td>\n",
       "    </tr>\n",
       "    <tr>\n",
       "      <th>75%</th>\n",
       "      <td>23.250000</td>\n",
       "    </tr>\n",
       "    <tr>\n",
       "      <th>max</th>\n",
       "      <td>30.000000</td>\n",
       "    </tr>\n",
       "  </tbody>\n",
       "</table>\n",
       "</div>"
      ],
      "text/plain": [
       "           value\n",
       "count  10.000000\n",
       "mean   17.600000\n",
       "std     7.381659\n",
       "min    10.000000\n",
       "25%    12.250000\n",
       "50%    14.500000\n",
       "75%    23.250000\n",
       "max    30.000000"
      ]
     },
     "metadata": {},
     "output_type": "display_data"
    },
    {
     "data": {
      "text/html": [
       "<div>\n",
       "<style scoped>\n",
       "    .dataframe tbody tr th:only-of-type {\n",
       "        vertical-align: middle;\n",
       "    }\n",
       "\n",
       "    .dataframe tbody tr th {\n",
       "        vertical-align: top;\n",
       "    }\n",
       "\n",
       "    .dataframe thead th {\n",
       "        text-align: right;\n",
       "    }\n",
       "</style>\n",
       "<table border=\"1\" class=\"dataframe\">\n",
       "  <thead>\n",
       "    <tr style=\"text-align: right;\">\n",
       "      <th></th>\n",
       "      <th>value</th>\n",
       "    </tr>\n",
       "    <tr>\n",
       "      <th>category</th>\n",
       "      <th></th>\n",
       "    </tr>\n",
       "  </thead>\n",
       "  <tbody>\n",
       "    <tr>\n",
       "      <th>A</th>\n",
       "      <td>11.500000</td>\n",
       "    </tr>\n",
       "    <tr>\n",
       "      <th>B</th>\n",
       "      <td>15.666667</td>\n",
       "    </tr>\n",
       "    <tr>\n",
       "      <th>C</th>\n",
       "      <td>27.666667</td>\n",
       "    </tr>\n",
       "  </tbody>\n",
       "</table>\n",
       "</div>"
      ],
      "text/plain": [
       "              value\n",
       "category           \n",
       "A         11.500000\n",
       "B         15.666667\n",
       "C         27.666667"
      ]
     },
     "metadata": {},
     "output_type": "display_data"
    },
    {
     "name": "stdout",
     "output_type": "stream",
     "text": [
      "Grouped by: 'category'\n"
     ]
    }
   ],
   "source": [
    "# Numeric summary\n",
    "numeric_summary = df.describe()  # numeric-only by default\n",
    "display(numeric_summary)\n",
    "\n",
    "# Pick a grouping column (prefer a non-numeric column if available)\n",
    "non_numeric_cols = [c for c in df.columns if not pd.api.types.is_numeric_dtype(df[c])]\n",
    "if len(non_numeric_cols) == 0:\n",
    "    # If no categorical column exists, create one by binning the first numeric column\n",
    "    num_cols = df.select_dtypes(include=\"number\").columns.tolist()\n",
    "    if not num_cols:\n",
    "        raise ValueError(\"No numeric columns found to create a grouping.\")\n",
    "    cut_col = num_cols[0]\n",
    "    df[\"category_auto\"] = pd.qcut(df[cut_col], q=3, labels=[\"low\", \"mid\", \"high\"])\n",
    "    group_col = \"category_auto\"\n",
    "else:\n",
    "    group_col = non_numeric_cols[0]\n",
    "\n",
    "# GroupBy aggregation (mean of numeric columns by chosen category)\n",
    "group_summary = df.groupby(group_col).mean(numeric_only=True)\n",
    "display(group_summary)\n",
    "print(f\"Grouped by: {group_col!r}\")\n"
   ]
  },
  {
   "cell_type": "markdown",
   "id": "7ef97481-4027-46d6-a8a6-2d1f04ae0edb",
   "metadata": {},
   "source": [
    "# Save Outputs (CSV/JSON) + Simple Plot"
   ]
  },
  {
   "cell_type": "code",
   "execution_count": 20,
   "id": "1c916a25-7ebb-4fdb-8f6e-6bb0353cc209",
   "metadata": {},
   "outputs": [
    {
     "name": "stdout",
     "output_type": "stream",
     "text": [
      "Saved: ../data/processed/summary.csv\n",
      "Saved: ../data/processed/summary.json\n",
      "Saved: ../data/processed/groupby_category.csv\n"
     ]
    },
    {
     "data": {
      "image/png": "[encoded data removed]",
      "text/plain": [
       "<Figure size 600x400 with 1 Axes>"
      ]
     },
     "metadata": {},
     "output_type": "display_data"
    },
    {
     "name": "stdout",
     "output_type": "stream",
     "text": [
      "Saved plot: ../figures/hist_value.png\n"
     ]
    }
   ],
   "source": [
    "# Save numeric summary\n",
    "summary_csv = PROC_DIR / \"summary.csv\"\n",
    "summary_json = PROC_DIR / \"summary.json\"\n",
    "numeric_summary.to_csv(summary_csv)\n",
    "numeric_summary.to_json(summary_json, orient=\"table\")  # structured JSON\n",
    "\n",
    "# Also save groupby result\n",
    "group_csv = PROC_DIR / f\"groupby_{group_col}.csv\"\n",
    "group_summary.to_csv(group_csv)\n",
    "\n",
    "print(f\"Saved: {summary_csv}\")\n",
    "print(f\"Saved: {summary_json}\")\n",
    "print(f\"Saved: {group_csv}\")\n",
    "\n",
    "# Bonus: simple plot — histogram of the first numeric column\n",
    "num_cols = df.select_dtypes(include=\"number\").columns.tolist()\n",
    "if num_cols:\n",
    "    col = num_cols[0]\n",
    "    plt.figure(figsize=(6,4))\n",
    "    df[col].plot(kind=\"hist\", bins=30, alpha=0.8, title=f\"Histogram of '{col}'\")\n",
    "    plt.xlabel(col)\n",
    "    fig_path = FIG_DIR / f\"hist_{col}.png\"\n",
    "    plt.tight_layout()\n",
    "    plt.savefig(fig_path, dpi=150)\n",
    "    plt.show()\n",
    "    print(f\"Saved plot: {fig_path}\")\n",
    "else:\n",
    "    print(\"No numeric columns to plot.\")\n"
   ]
  },
  {
   "cell_type": "markdown",
   "id": "24cf2577-0b85-4d05-b5e8-39aa79e8e4d5",
   "metadata": {},
   "source": [
    "# Reusable Functions (in-notebook)"
   ]
  },
  {
   "cell_type": "code",
   "execution_count": 21,
   "id": "a8c06aa8-fa7c-4951-b849-100ba3b73b89",
   "metadata": {},
   "outputs": [
    {
     "data": {
      "text/html": [
       "<div>\n",
       "<style scoped>\n",
       "    .dataframe tbody tr th:only-of-type {\n",
       "        vertical-align: middle;\n",
       "    }\n",
       "\n",
       "    .dataframe tbody tr th {\n",
       "        vertical-align: top;\n",
       "    }\n",
       "\n",
       "    .dataframe thead th {\n",
       "        text-align: right;\n",
       "    }\n",
       "</style>\n",
       "<table border=\"1\" class=\"dataframe\">\n",
       "  <thead>\n",
       "    <tr style=\"text-align: right;\">\n",
       "      <th></th>\n",
       "      <th>value</th>\n",
       "    </tr>\n",
       "  </thead>\n",
       "  <tbody>\n",
       "    <tr>\n",
       "      <th>count</th>\n",
       "      <td>10.000000</td>\n",
       "    </tr>\n",
       "    <tr>\n",
       "      <th>mean</th>\n",
       "      <td>17.600000</td>\n",
       "    </tr>\n",
       "    <tr>\n",
       "      <th>std</th>\n",
       "      <td>7.381659</td>\n",
       "    </tr>\n",
       "    <tr>\n",
       "      <th>min</th>\n",
       "      <td>10.000000</td>\n",
       "    </tr>\n",
       "    <tr>\n",
       "      <th>25%</th>\n",
       "      <td>12.250000</td>\n",
       "    </tr>\n",
       "    <tr>\n",
       "      <th>50%</th>\n",
       "      <td>14.500000</td>\n",
       "    </tr>\n",
       "    <tr>\n",
       "      <th>75%</th>\n",
       "      <td>23.250000</td>\n",
       "    </tr>\n",
       "    <tr>\n",
       "      <th>max</th>\n",
       "      <td>30.000000</td>\n",
       "    </tr>\n",
       "  </tbody>\n",
       "</table>\n",
       "</div>"
      ],
      "text/plain": [
       "           value\n",
       "count  10.000000\n",
       "mean   17.600000\n",
       "std     7.381659\n",
       "min    10.000000\n",
       "25%    12.250000\n",
       "50%    14.500000\n",
       "75%    23.250000\n",
       "max    30.000000"
      ]
     },
     "metadata": {},
     "output_type": "display_data"
    },
    {
     "data": {
      "text/html": [
       "<div>\n",
       "<style scoped>\n",
       "    .dataframe tbody tr th:only-of-type {\n",
       "        vertical-align: middle;\n",
       "    }\n",
       "\n",
       "    .dataframe tbody tr th {\n",
       "        vertical-align: top;\n",
       "    }\n",
       "\n",
       "    .dataframe thead th {\n",
       "        text-align: right;\n",
       "    }\n",
       "</style>\n",
       "<table border=\"1\" class=\"dataframe\">\n",
       "  <thead>\n",
       "    <tr style=\"text-align: right;\">\n",
       "      <th></th>\n",
       "      <th>value</th>\n",
       "    </tr>\n",
       "    <tr>\n",
       "      <th>category</th>\n",
       "      <th></th>\n",
       "    </tr>\n",
       "  </thead>\n",
       "  <tbody>\n",
       "    <tr>\n",
       "      <th>A</th>\n",
       "      <td>11.500000</td>\n",
       "    </tr>\n",
       "    <tr>\n",
       "      <th>B</th>\n",
       "      <td>15.666667</td>\n",
       "    </tr>\n",
       "    <tr>\n",
       "      <th>C</th>\n",
       "      <td>27.666667</td>\n",
       "    </tr>\n",
       "  </tbody>\n",
       "</table>\n",
       "</div>"
      ],
      "text/plain": [
       "              value\n",
       "category           \n",
       "A         11.500000\n",
       "B         15.666667\n",
       "C         27.666667"
      ]
     },
     "metadata": {},
     "output_type": "display_data"
    }
   ],
   "source": [
    "def get_summary_stats(df: pd.DataFrame) -> pd.DataFrame:\n",
    "    \"\"\"\n",
    "    Return summary stats for numeric columns.\n",
    "    \"\"\"\n",
    "    return df.describe()\n",
    "\n",
    "def groupby_numeric_means(df: pd.DataFrame, by: str) -> pd.DataFrame:\n",
    "    \"\"\"\n",
    "    Group by 'by' and compute means of numeric columns.\n",
    "    \"\"\"\n",
    "    if by not in df.columns:\n",
    "        raise KeyError(f\"Group column '{by}' not found in DataFrame.\")\n",
    "    return df.groupby(by).mean(numeric_only=True)\n",
    "\n",
    "# Use the functions\n",
    "stats2 = get_summary_stats(df)\n",
    "group2 = groupby_numeric_means(df, by=group_col)\n",
    "\n",
    "display(stats2)\n",
    "display(group2)\n"
   ]
  },
  {
   "cell_type": "markdown",
   "id": "d5e95be4-54ef-4ebf-a3e0-b749bc2d8bfb",
   "metadata": {},
   "source": [
    "# Bonus — Move utilities to src/utils.py and import\n",
    "file generator"
   ]
  },
  {
   "cell_type": "code",
   "execution_count": 15,
   "id": "f1155b77-5f12-4e6c-817d-b6622e187787",
   "metadata": {},
   "outputs": [
    {
     "name": "stdout",
     "output_type": "stream",
     "text": [
      "Wrote src/utils.py\n"
     ]
    }
   ],
   "source": [
    "utils_code = \"\"\"\\\n",
    "import pandas as pd\n",
    "\n",
    "def get_summary_stats(df: pd.DataFrame) -> pd.DataFrame:\n",
    "    return df.describe()\n",
    "\n",
    "def groupby_numeric_means(df: pd.DataFrame, by: str) -> pd.DataFrame:\n",
    "    if by not in df.columns:\n",
    "        raise KeyError(f\"Group column '{by}' not found in DataFrame.\")\n",
    "    return df.groupby(by).mean(numeric_only=True)\n",
    "\"\"\"\n",
    "\n",
    "(SRC_DIR / \"utils.py\").write_text(utils_code, encoding=\"utf-8\")\n",
    "print(\"Wrote src/utils.py\")\n"
   ]
  }
 ],
 "metadata": {
  "kernelspec": {
   "display_name": "Python 3 (ipykernel)",
   "language": "python",
   "name": "python3"
  },
  "language_info": {
   "codemirror_mode": {
    "name": "ipython",
    "version": 3
   },
   "file_extension": ".py",
   "mimetype": "text/x-python",
   "name": "python",
   "nbconvert_exporter": "python",
   "pygments_lexer": "ipython3",
   "version": "3.11.13"
  }
 },
 "nbformat": 4,
 "nbformat_minor": 5
}
