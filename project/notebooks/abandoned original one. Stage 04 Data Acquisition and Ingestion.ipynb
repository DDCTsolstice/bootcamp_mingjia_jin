{
 "cells": [
  {
   "cell_type": "markdown",
   "id": "49b1a5ac-8684-4712-919a-ff674edb7899",
   "metadata": {},
   "source": [
    "# Imports & config"
   ]
  },
  {
   "cell_type": "code",
   "execution_count": 2,
   "id": "75c4b84c-6d59-4720-8a3b-23ed241563a4",
   "metadata": {},
   "outputs": [],
   "source": [
    "from pathlib import Path\n",
    "from datetime import datetime\n",
    "import pandas as pd\n",
    "import yfinance as yf\n",
    "from dotenv import load_dotenv\n",
    "import os\n",
    "\n",
    "# Load secrets if you later switch to an API that needs keys\n",
    "load_dotenv()  # keeps keys out of code; safe even if none are set # Loads environment variables from a .env file into your system environment.\n",
    "\n",
    "TICKER = \"AAPL\"\n",
    "START = \"2015-01-01\"\n",
    "END   = None  # or \"2025-08-22\"\n",
    "SOURCE = \"yfinance\"\n"
   ]
  },
  {
   "cell_type": "markdown",
   "id": "5df575e2-49fc-4725-81b3-62a7faa29a27",
   "metadata": {},
   "source": [
    "# Helper: reproducible raw path"
   ]
  },
  {
   "cell_type": "code",
   "execution_count": 3,
   "id": "d1bc7325-6c1d-43d3-987e-3782d1612dda",
   "metadata": {},
   "outputs": [],
   "source": [
    "def raw_path(prefix: str, source: str, ident: str, ext: str = \"csv\") -> Path: \n",
    "    # with type hints(;) which will not coerce # Python won’t enforce types at runtime — they’re just hints for IDEs/linting.\n",
    "    # also `-> Path` make sure we will have a Path object, Path is a class from the pathlib module in Python, so of course it is an certain kind of object.\n",
    "        # It represents filesystem paths in an object-oriented way (instead of plain strings)\n",
    "    ts = datetime.now().strftime(\"%Y%m%d-%H%M\")\n",
    "    Path(\"data/raw\").mkdir(parents=True, exist_ok=True) # Creates the folder if it doesn’t exist. \n",
    "    # Para: parents=True create parent directories if needed; exist_ok=True don’t raise an error if the folder already exists.\n",
    "    return Path(f\"data/raw/{prefix}_{source}_{ident}_{ts}.{ext}\")"
   ]
  },
  {
   "cell_type": "markdown",
   "id": "3c636949-8013-4a10-ba43-c15989c543fd",
   "metadata": {
    "jp-MarkdownHeadingCollapsed": true
   },
   "source": [
    "# Helper: validation"
   ]
  },
  {
   "cell_type": "code",
   "execution_count": 5,
   "id": "22febbc9-05a7-4bf2-bcf3-4c2f2c8c6698",
   "metadata": {},
   "outputs": [],
   "source": [
    "def validate_df(df: pd.DataFrame,\n",
    "                required_cols: list[str],\n",
    "                expected_types: dict[str, str],\n",
    "                date_col: str = \"date\") -> dict:\n",
    "    msgs = {}\n",
    "\n",
    "    # Schema\n",
    "    missing = set(required_cols) - set(df.columns)\n",
    "    if missing:\n",
    "        msgs[\"missing_cols\"] = f\"Missing columns: {sorted(missing)}\"\n",
    "\n",
    "    # Types\n",
    "    for col, t in expected_types.items():\n",
    "        try:\n",
    "            if t.startswith(\"datetime\"):\n",
    "                df[col] = pd.to_datetime(df[col], errors=\"raise\")\n",
    "            elif t in (\"float\", \"int\"):\n",
    "                df[col] = pd.to_numeric(df[col], errors=\"coerce\")\n",
    "        except Exception as e:\n",
    "            msgs[f\"type_{col}\"] = f\"Failed to parse {col} as {t}: {e}\"\n",
    "\n",
    "    # Completeness\n",
    "    na_counts = df[required_cols].isna().sum()\n",
    "    if na_counts.any():\n",
    "        msgs[\"na_counts\"] = f\"NA counts: {na_counts.to_dict()}\"\n",
    "\n",
    "    # Sanity\n",
    "    if date_col in df and not df[date_col].is_monotonic_increasing:\n",
    "        msgs[\"date_order\"] = \"Dates are not monotonically increasing.\"\n",
    "    if df.duplicated().any():\n",
    "        msgs[\"dupes\"] = f\"Found {int(df.duplicated().sum())} duplicate rows.\"\n",
    "    # domain sanity: prices positive, volume nonnegative\n",
    "    if \"adj_close\" in df and (df[\"adj_close\"] <= 0).any():\n",
    "        msgs[\"price_nonpositive\"] = \"Found non-positive adjusted prices.\"\n",
    "    if \"volume\" in df and (df[\"volume\"] < 0).any():\n",
    "        msgs[\"volume_negative\"] = \"Found negative volumes.\"\n",
    "\n",
    "    return msgs\n"
   ]
  },
  {
   "cell_type": "markdown",
   "id": "1191dd73-0ced-4306-81c1-dca08e6057cd",
   "metadata": {},
   "source": [
    "# Fetch via yfinance(API)"
   ]
  },
  {
   "cell_type": "code",
   "execution_count": 10,
   "id": "fb5f7c51-7c82-4603-9a51-70812759e37d",
   "metadata": {},
   "outputs": [],
   "source": [
    "# raw = yf.download(TICKER, start=START, end=END, auto_adjust=False, progress=False)\n",
    "# raw is indexed by DatetimeIndex, columns: ['Open','High','Low','Close','Adj Close','Volume']\n",
    "\n",
    "# Pick one of these two options\n",
    "# A) Use Ticker().history() → always single-level columns\n",
    "df = yf.Ticker(TICKER).history(start=START, end=END, auto_adjust=False)\n",
    "# columns: ['Open','High','Low','Close','Adj Close','Volume']\n",
    "# auto_adjust=True, Automatically adjusts OHLC (Open, High, Low, Close) prices for dividends and stock splits.\n",
    "\n",
    "# B) Download data for one or multiple tickers, so ensure you pass a STRING ticker (not a list) to download()\n",
    "# df = yf.download(TICKER, start=START, end=END, auto_adjust=False, progress=False)\n",
    "# If TICKER is 'AAPL' (string), most versions return single-level columns.\n",
    "\n",
    "# (If you ever still get MultiIndex)\n",
    "# if isinstance(df.columns, pd.MultiIndex):\n",
    "#     df = df.xs(TICKER, axis=1, level='Ticker')  # collapse to single level\n"
   ]
  },
  {
   "cell_type": "code",
   "execution_count": 11,
   "id": "3527e6d2-071f-4003-8e63-0664e0309f75",
   "metadata": {},
   "outputs": [
    {
     "data": {
      "text/html": [
       "<div>\n",
       "<style scoped>\n",
       "    .dataframe tbody tr th:only-of-type {\n",
       "        vertical-align: middle;\n",
       "    }\n",
       "\n",
       "    .dataframe tbody tr th {\n",
       "        vertical-align: top;\n",
       "    }\n",
       "\n",
       "    .dataframe thead th {\n",
       "        text-align: right;\n",
       "    }\n",
       "</style>\n",
       "<table border=\"1\" class=\"dataframe\">\n",
       "  <thead>\n",
       "    <tr style=\"text-align: right;\">\n",
       "      <th></th>\n",
       "      <th>Open</th>\n",
       "      <th>High</th>\n",
       "      <th>Low</th>\n",
       "      <th>Close</th>\n",
       "      <th>Adj Close</th>\n",
       "      <th>Volume</th>\n",
       "    </tr>\n",
       "    <tr>\n",
       "      <th>Date</th>\n",
       "      <th></th>\n",
       "      <th></th>\n",
       "      <th></th>\n",
       "      <th></th>\n",
       "      <th></th>\n",
       "      <th></th>\n",
       "    </tr>\n",
       "  </thead>\n",
       "  <tbody>\n",
       "    <tr>\n",
       "      <th>2015-01-02 00:00:00-05:00</th>\n",
       "      <td>27.847500</td>\n",
       "      <td>27.860001</td>\n",
       "      <td>26.837500</td>\n",
       "      <td>27.332500</td>\n",
       "      <td>24.261045</td>\n",
       "      <td>212818400</td>\n",
       "    </tr>\n",
       "    <tr>\n",
       "      <th>2015-01-05 00:00:00-05:00</th>\n",
       "      <td>27.072500</td>\n",
       "      <td>27.162500</td>\n",
       "      <td>26.352501</td>\n",
       "      <td>26.562500</td>\n",
       "      <td>23.577576</td>\n",
       "      <td>257142000</td>\n",
       "    </tr>\n",
       "    <tr>\n",
       "      <th>2015-01-06 00:00:00-05:00</th>\n",
       "      <td>26.635000</td>\n",
       "      <td>26.857500</td>\n",
       "      <td>26.157499</td>\n",
       "      <td>26.565001</td>\n",
       "      <td>23.579792</td>\n",
       "      <td>263188400</td>\n",
       "    </tr>\n",
       "    <tr>\n",
       "      <th>2015-01-07 00:00:00-05:00</th>\n",
       "      <td>26.799999</td>\n",
       "      <td>27.049999</td>\n",
       "      <td>26.674999</td>\n",
       "      <td>26.937500</td>\n",
       "      <td>23.910433</td>\n",
       "      <td>160423600</td>\n",
       "    </tr>\n",
       "    <tr>\n",
       "      <th>2015-01-08 00:00:00-05:00</th>\n",
       "      <td>27.307501</td>\n",
       "      <td>28.037500</td>\n",
       "      <td>27.174999</td>\n",
       "      <td>27.972500</td>\n",
       "      <td>24.829128</td>\n",
       "      <td>237458000</td>\n",
       "    </tr>\n",
       "    <tr>\n",
       "      <th>...</th>\n",
       "      <td>...</td>\n",
       "      <td>...</td>\n",
       "      <td>...</td>\n",
       "      <td>...</td>\n",
       "      <td>...</td>\n",
       "      <td>...</td>\n",
       "    </tr>\n",
       "    <tr>\n",
       "      <th>2025-08-18 00:00:00-04:00</th>\n",
       "      <td>231.699997</td>\n",
       "      <td>233.119995</td>\n",
       "      <td>230.110001</td>\n",
       "      <td>230.889999</td>\n",
       "      <td>230.889999</td>\n",
       "      <td>37476200</td>\n",
       "    </tr>\n",
       "    <tr>\n",
       "      <th>2025-08-19 00:00:00-04:00</th>\n",
       "      <td>231.279999</td>\n",
       "      <td>232.869995</td>\n",
       "      <td>229.350006</td>\n",
       "      <td>230.559998</td>\n",
       "      <td>230.559998</td>\n",
       "      <td>39402600</td>\n",
       "    </tr>\n",
       "    <tr>\n",
       "      <th>2025-08-20 00:00:00-04:00</th>\n",
       "      <td>229.979996</td>\n",
       "      <td>230.470001</td>\n",
       "      <td>225.770004</td>\n",
       "      <td>226.009995</td>\n",
       "      <td>226.009995</td>\n",
       "      <td>42263900</td>\n",
       "    </tr>\n",
       "    <tr>\n",
       "      <th>2025-08-21 00:00:00-04:00</th>\n",
       "      <td>226.270004</td>\n",
       "      <td>226.520004</td>\n",
       "      <td>223.779999</td>\n",
       "      <td>224.899994</td>\n",
       "      <td>224.899994</td>\n",
       "      <td>30621200</td>\n",
       "    </tr>\n",
       "    <tr>\n",
       "      <th>2025-08-22 00:00:00-04:00</th>\n",
       "      <td>226.169998</td>\n",
       "      <td>229.089996</td>\n",
       "      <td>225.410004</td>\n",
       "      <td>227.759995</td>\n",
       "      <td>227.759995</td>\n",
       "      <td>42445300</td>\n",
       "    </tr>\n",
       "  </tbody>\n",
       "</table>\n",
       "<p>2676 rows × 6 columns</p>\n",
       "</div>"
      ],
      "text/plain": [
       "                                 Open        High         Low       Close  \\\n",
       "Date                                                                        \n",
       "2015-01-02 00:00:00-05:00   27.847500   27.860001   26.837500   27.332500   \n",
       "2015-01-05 00:00:00-05:00   27.072500   27.162500   26.352501   26.562500   \n",
       "2015-01-06 00:00:00-05:00   26.635000   26.857500   26.157499   26.565001   \n",
       "2015-01-07 00:00:00-05:00   26.799999   27.049999   26.674999   26.937500   \n",
       "2015-01-08 00:00:00-05:00   27.307501   28.037500   27.174999   27.972500   \n",
       "...                               ...         ...         ...         ...   \n",
       "2025-08-18 00:00:00-04:00  231.699997  233.119995  230.110001  230.889999   \n",
       "2025-08-19 00:00:00-04:00  231.279999  232.869995  229.350006  230.559998   \n",
       "2025-08-20 00:00:00-04:00  229.979996  230.470001  225.770004  226.009995   \n",
       "2025-08-21 00:00:00-04:00  226.270004  226.520004  223.779999  224.899994   \n",
       "2025-08-22 00:00:00-04:00  226.169998  229.089996  225.410004  227.759995   \n",
       "\n",
       "                            Adj Close     Volume  \n",
       "Date                                              \n",
       "2015-01-02 00:00:00-05:00   24.261045  212818400  \n",
       "2015-01-05 00:00:00-05:00   23.577576  257142000  \n",
       "2015-01-06 00:00:00-05:00   23.579792  263188400  \n",
       "2015-01-07 00:00:00-05:00   23.910433  160423600  \n",
       "2015-01-08 00:00:00-05:00   24.829128  237458000  \n",
       "...                               ...        ...  \n",
       "2025-08-18 00:00:00-04:00  230.889999   37476200  \n",
       "2025-08-19 00:00:00-04:00  230.559998   39402600  \n",
       "2025-08-20 00:00:00-04:00  226.009995   42263900  \n",
       "2025-08-21 00:00:00-04:00  224.899994   30621200  \n",
       "2025-08-22 00:00:00-04:00  227.759995   42445300  \n",
       "\n",
       "[2676 rows x 6 columns]"
      ]
     },
     "execution_count": 11,
     "metadata": {},
     "output_type": "execute_result"
    }
   ],
   "source": [
    "df = df.drop(columns=[\"Dividends\", \"Stock Splits\"])\n",
    "df"
   ]
  },
  {
   "cell_type": "markdown",
   "id": "329b5dc0-3763-4282-bebd-b9b68dfa8e56",
   "metadata": {},
   "source": [
    "# Parse dtypes (dates, floats)"
   ]
  },
  {
   "cell_type": "code",
   "execution_count": 8,
   "id": "71d2e45b-faec-4481-9612-84b1363a230a",
   "metadata": {},
   "outputs": [],
   "source": [
    "df[\"date\"] = pd.to_datetime(df[\"date\"], errors=\"raise\")"
   ]
  },
  {
   "cell_type": "code",
   "execution_count": 10,
   "id": "aa5a5451-6962-4399-b7d3-cc5d50e25000",
   "metadata": {},
   "outputs": [
    {
     "name": "stdout",
     "output_type": "stream",
     "text": [
      "MultiIndex([(     'date',     ''),\n",
      "            ('adj_close', 'AAPL'),\n",
      "            (    'close', 'AAPL'),\n",
      "            (     'high', 'AAPL'),\n",
      "            (      'low', 'AAPL'),\n",
      "            (     'open', 'AAPL'),\n",
      "            (   'volume', 'AAPL')],\n",
      "           names=['Price', 'Ticker'])\n"
     ]
    }
   ],
   "source": [
    "\n"
   ]
  },
  {
   "cell_type": "markdown",
   "id": "9af8a705-ecb4-4f28-ba50-4c095a5005a2",
   "metadata": {},
   "source": [
    "# Validate (fail fast if issues)"
   ]
  },
  {
   "cell_type": "code",
   "execution_count": null,
   "id": "7b8fae6e-5519-4bbd-ae24-594f9237c19f",
   "metadata": {},
   "outputs": [],
   "source": [
    "required = [\"date\",\"open\",\"high\",\"low\",\"close\",\"adj_close\",\"volume\"]\n",
    "expected = {\n",
    "    \"date\": \"datetime64[ns]\",\n",
    "    \"open\": \"float\", \"high\": \"float\", \"low\": \"float\",\n",
    "    \"close\": \"float\", \"adj_close\": \"float\",\n",
    "    \"volume\": \"int\"  # yfinance returns int-like; coerce ok\n",
    "}\n",
    "msgs = validate_df(df, required, expected, date_col=\"date\")\n",
    "if msgs:\n",
    "    raise ValueError(msgs)\n",
    "\n",
    "# Optional: quick completeness print\n",
    "print(\"Shape:\", df.shape)\n",
    "print(\"Head:\\n\", df.head(3))"
   ]
  },
  {
   "cell_type": "markdown",
   "id": "e3db40c1-da4c-407b-8b0a-9950143fa84b",
   "metadata": {},
   "source": [
    "# Save raw CSV (timestamped)"
   ]
  },
  {
   "cell_type": "code",
   "execution_count": null,
   "id": "9118633d-5bdb-4138-b9ff-17edce179cd4",
   "metadata": {},
   "outputs": [],
   "source": [
    "fp = raw_path(\"api\", SOURCE, TICKER)\n",
    "df.to_csv(fp, index=False)\n",
    "fp"
   ]
  },
  {
   "cell_type": "code",
   "execution_count": null,
   "id": "abf21036-8718-47e6-bc55-6b51c708829c",
   "metadata": {},
   "outputs": [],
   "source": []
  },
  {
   "cell_type": "code",
   "execution_count": null,
   "id": "51ef8baf-a339-484d-bca0-58ee120444c5",
   "metadata": {},
   "outputs": [],
   "source": []
  },
  {
   "cell_type": "code",
   "execution_count": null,
   "id": "b19911bb-39de-4122-8623-9cd438e28702",
   "metadata": {},
   "outputs": [],
   "source": []
  },
  {
   "cell_type": "code",
   "execution_count": null,
   "id": "f09244ef-0a87-4f2c-a8f6-45f51e94c226",
   "metadata": {},
   "outputs": [],
   "source": []
  },
  {
   "cell_type": "code",
   "execution_count": null,
   "id": "42c63990-b142-4ebe-b513-cdfa91e10f2c",
   "metadata": {},
   "outputs": [],
   "source": []
  }
 ],
 "metadata": {
  "kernelspec": {
   "display_name": "Python 3 (ipykernel)",
   "language": "python",
   "name": "python3"
  },
  "language_info": {
   "codemirror_mode": {
    "name": "ipython",
    "version": 3
   },
   "file_extension": ".py",
   "mimetype": "text/x-python",
   "name": "python",
   "nbconvert_exporter": "python",
   "pygments_lexer": "ipython3",
   "version": "3.11.13"
  }
 },
 "nbformat": 4,
 "nbformat_minor": 5
}
